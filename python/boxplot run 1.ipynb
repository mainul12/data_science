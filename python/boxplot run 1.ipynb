{
 "cells": [
  {
   "cell_type": "markdown",
   "id": "5623419b",
   "metadata": {},
   "source": [
    "### [Source](https://matplotlib.org/stable/gallery/pyplots/boxplot_demo_pyplot.html)"
   ]
  },
  {
   "cell_type": "code",
   "execution_count": 1,
   "id": "e2d9fd98",
   "metadata": {},
   "outputs": [],
   "source": [
    "import numpy as np"
   ]
  },
  {
   "cell_type": "code",
   "execution_count": 2,
   "id": "5b71d49e",
   "metadata": {},
   "outputs": [],
   "source": [
    "import matplotlib.pyplot as plt\n",
    "%matplotlib inline"
   ]
  },
  {
   "cell_type": "code",
   "execution_count": 10,
   "id": "5d0a2015",
   "metadata": {},
   "outputs": [],
   "source": [
    "from numpy.random import default_rng\n",
    "rng = default_rng()\n",
    "\n",
    "data = rng.normal(size = 1000)"
   ]
  },
  {
   "cell_type": "code",
   "execution_count": 11,
   "id": "cd4bf55f",
   "metadata": {},
   "outputs": [
    {
     "data": {
      "text/plain": [
       "1000"
      ]
     },
     "execution_count": 11,
     "metadata": {},
     "output_type": "execute_result"
    }
   ],
   "source": [
    "len(data)"
   ]
  },
  {
   "cell_type": "code",
   "execution_count": 15,
   "id": "98ee089c",
   "metadata": {},
   "outputs": [
    {
     "data": {
      "text/plain": [
       "(1000,)"
      ]
     },
     "execution_count": 15,
     "metadata": {},
     "output_type": "execute_result"
    }
   ],
   "source": [
    "data.shape"
   ]
  },
  {
   "cell_type": "code",
   "execution_count": 16,
   "id": "d80a7f1c",
   "metadata": {},
   "outputs": [
    {
     "data": {
      "text/plain": [
       "{'whiskers': [<matplotlib.lines.Line2D at 0x1ad31d36220>,\n",
       "  <matplotlib.lines.Line2D at 0x1ad31d368e0>],\n",
       " 'caps': [<matplotlib.lines.Line2D at 0x1ad31d492b0>,\n",
       "  <matplotlib.lines.Line2D at 0x1ad31d49790>],\n",
       " 'boxes': [<matplotlib.lines.Line2D at 0x1ad318f2ac0>],\n",
       " 'medians': [<matplotlib.lines.Line2D at 0x1ad31d49ca0>],\n",
       " 'fliers': [<matplotlib.lines.Line2D at 0x1ad317e57f0>],\n",
       " 'means': []}"
      ]
     },
     "execution_count": 16,
     "metadata": {},
     "output_type": "execute_result"
    },
    {
     "data": {
      "image/png": "[encoded data removed]",
      "text/plain": [
       "<Figure size 432x288 with 1 Axes>"
      ]
     },
     "metadata": {
      "needs_background": "light"
     },
     "output_type": "display_data"
    }
   ],
   "source": [
    "fig, ax = plt.subplots()\n",
    "ax.set_title('Basic Plot')\n",
    "ax.boxplot(data)"
   ]
  },
  {
   "cell_type": "code",
   "execution_count": 20,
   "id": "4412bde4",
   "metadata": {},
   "outputs": [
    {
     "data": {
      "text/plain": [
       "{'whiskers': [<matplotlib.lines.Line2D at 0x1ad32e3cdf0>,\n",
       "  <matplotlib.lines.Line2D at 0x1ad32d951c0>,\n",
       "  <matplotlib.lines.Line2D at 0x1ad32729760>,\n",
       "  <matplotlib.lines.Line2D at 0x1ad32729af0>,\n",
       "  <matplotlib.lines.Line2D at 0x1ad327600d0>,\n",
       "  <matplotlib.lines.Line2D at 0x1ad32760460>],\n",
       " 'caps': [<matplotlib.lines.Line2D at 0x1ad32d95550>,\n",
       "  <matplotlib.lines.Line2D at 0x1ad32d958e0>,\n",
       "  <matplotlib.lines.Line2D at 0x1ad32729e80>,\n",
       "  <matplotlib.lines.Line2D at 0x1ad32741250>,\n",
       "  <matplotlib.lines.Line2D at 0x1ad327607f0>,\n",
       "  <matplotlib.lines.Line2D at 0x1ad32760b80>],\n",
       " 'boxes': [<matplotlib.lines.Line2D at 0x1ad32e3ca60>,\n",
       "  <matplotlib.lines.Line2D at 0x1ad327293d0>,\n",
       "  <matplotlib.lines.Line2D at 0x1ad32741d00>],\n",
       " 'medians': [<matplotlib.lines.Line2D at 0x1ad32d95c70>,\n",
       "  <matplotlib.lines.Line2D at 0x1ad327415e0>,\n",
       "  <matplotlib.lines.Line2D at 0x1ad32760eb0>],\n",
       " 'fliers': [<matplotlib.lines.Line2D at 0x1ad32729040>,\n",
       "  <matplotlib.lines.Line2D at 0x1ad32741970>,\n",
       "  <matplotlib.lines.Line2D at 0x1ad32787280>],\n",
       " 'means': []}"
      ]
     },
     "execution_count": 20,
     "metadata": {},
     "output_type": "execute_result"
    },
    {
     "data": {
      "image/png": "[encoded data removed]",
      "text/plain": [
       "<Figure size 432x288 with 1 Axes>"
      ]
     },
     "metadata": {
      "needs_background": "light"
     },
     "output_type": "display_data"
    }
   ],
   "source": [
    "fig, ax = plt.subplots()\n",
    "ax.set_title('Basic Plot')\n",
    "ax.boxplot([data, data-10, data + 4], vert=False)"
   ]
  }
 ],
 "metadata": {
  "kernelspec": {
   "display_name": "Python 3",
   "language": "python",
   "name": "python3"
  },
  "language_info": {
   "codemirror_mode": {
    "name": "ipython",
    "version": 3
   },
   "file_extension": ".py",
   "mimetype": "text/x-python",
   "name": "python",
   "nbconvert_exporter": "python",
   "pygments_lexer": "ipython3",
   "version": "3.9.5"
  }
 },
 "nbformat": 4,
 "nbformat_minor": 5
}
