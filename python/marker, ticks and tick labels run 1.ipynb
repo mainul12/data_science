{
 "cells": [
  {
   "cell_type": "code",
   "execution_count": 1,
   "id": "f593650f",
   "metadata": {},
   "outputs": [],
   "source": [
    "import numpy as np"
   ]
  },
  {
   "cell_type": "code",
   "execution_count": 2,
   "id": "96bdbe59",
   "metadata": {},
   "outputs": [],
   "source": [
    "import matplotlib.pyplot as plt\n",
    "%matplotlib inline"
   ]
  },
  {
   "cell_type": "code",
   "execution_count": 4,
   "id": "57dfe75d",
   "metadata": {},
   "outputs": [],
   "source": [
    "data = np.arange(5)"
   ]
  },
  {
   "cell_type": "code",
   "execution_count": 5,
   "id": "d1c57632",
   "metadata": {},
   "outputs": [
    {
     "data": {
      "text/plain": [
       "array([0, 1, 2, 3, 4])"
      ]
     },
     "execution_count": 5,
     "metadata": {},
     "output_type": "execute_result"
    }
   ],
   "source": [
    "data"
   ]
  },
  {
   "cell_type": "code",
   "execution_count": 12,
   "id": "665bfc86",
   "metadata": {},
   "outputs": [
    {
     "data": {
      "text/plain": [
       "[<matplotlib.lines.Line2D at 0x19c4dc21a60>,\n",
       " <matplotlib.lines.Line2D at 0x19c4dc21b20>,\n",
       " <matplotlib.lines.Line2D at 0x19c4dc21c40>]"
      ]
     },
     "execution_count": 12,
     "metadata": {},
     "output_type": "execute_result"
    },
    {
     "data": {
      "image/png": "[encoded data removed]",
      "text/plain": [
       "<Figure size 432x288 with 1 Axes>"
      ]
     },
     "metadata": {
      "needs_background": "light"
     },
     "output_type": "display_data"
    }
   ],
   "source": [
    "plt.plot(data, 'o', data**2, '^', -data, 'x')"
   ]
  },
  {
   "cell_type": "code",
   "execution_count": 24,
   "id": "544033a3",
   "metadata": {},
   "outputs": [
    {
     "data": {
      "text/plain": [
       "([<matplotlib.axis.YTick at 0x19c4f5fc7f0>,\n",
       "  <matplotlib.axis.YTick at 0x19c4f5f7fa0>,\n",
       "  <matplotlib.axis.YTick at 0x19c4f5f72e0>],\n",
       " [Text(0, 0, ''), Text(0, 0, ''), Text(0, 0, '')])"
      ]
     },
     "execution_count": 24,
     "metadata": {},
     "output_type": "execute_result"
    },
    {
     "data": {
      "image/png": "[encoded data removed]",
      "text/plain": [
       "<Figure size 432x288 with 1 Axes>"
      ]
     },
     "metadata": {
      "needs_background": "light"
     },
     "output_type": "display_data"
    }
   ],
   "source": [
    "plt.plot(-data, 'x', markersize = 10, color=\"blue\", linestyle = '--')\n",
    "plt.plot(-data**2, 'P', markersize = 10, color=\"red\")\n",
    "plt.xticks(data, labels=['A', 'B', 'C', 'D', 'E'])\n",
    "plt.yticks([0, -8, -16])"
   ]
  },
  {
   "cell_type": "code",
   "execution_count": null,
   "id": "55de1674",
   "metadata": {},
   "outputs": [],
   "source": []
  }
 ],
 "metadata": {
  "kernelspec": {
   "display_name": "Python 3",
   "language": "python",
   "name": "python3"
  },
  "language_info": {
   "codemirror_mode": {
    "name": "ipython",
    "version": 3
   },
   "file_extension": ".py",
   "mimetype": "text/x-python",
   "name": "python",
   "nbconvert_exporter": "python",
   "pygments_lexer": "ipython3",
   "version": "3.9.5"
  }
 },
 "nbformat": 4,
 "nbformat_minor": 5
}
