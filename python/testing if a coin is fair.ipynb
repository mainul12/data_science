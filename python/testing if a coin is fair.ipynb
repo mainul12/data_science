{
 "cells": [
  {
   "cell_type": "markdown",
   "id": "0da74263",
   "metadata": {},
   "source": [
    "Inspiration: Kotteman"
   ]
  },
  {
   "cell_type": "code",
   "execution_count": 1,
   "id": "082528b0",
   "metadata": {},
   "outputs": [],
   "source": [
    "from symbulate import *"
   ]
  },
  {
   "cell_type": "code",
   "execution_count": 2,
   "id": "7196412f",
   "metadata": {},
   "outputs": [],
   "source": [
    "%matplotlib inline"
   ]
  },
  {
   "cell_type": "code",
   "execution_count": 13,
   "id": "d0bf74ec",
   "metadata": {},
   "outputs": [],
   "source": [
    "P = BoxModel([0, 1], size=10)"
   ]
  },
  {
   "cell_type": "code",
   "execution_count": 14,
   "id": "744bc09d",
   "metadata": {},
   "outputs": [
    {
     "data": {
      "text/html": [
       "\n",
       "    <table>\n",
       "      <thead>\n",
       "        <th width=\"10%\">Index</th>\n",
       "        <th width=\"90%\">Result</th>\n",
       "      </thead>\n",
       "      <tbody>\n",
       "        \n",
       "        <tr>\n",
       "          <td>0</td><td>(1, 0, 1, 0, 0, ..., 0)</td>\n",
       "        </tr>\n",
       "        \n",
       "        <tr>\n",
       "          <td>1</td><td>(0, 1, 0, 1, 0, ..., 0)</td>\n",
       "        </tr>\n",
       "        \n",
       "        <tr>\n",
       "          <td>2</td><td>(0, 0, 1, 0, 0, ..., 1)</td>\n",
       "        </tr>\n",
       "        \n",
       "        <tr>\n",
       "          <td>3</td><td>(1, 1, 1, 0, 0, ..., 0)</td>\n",
       "        </tr>\n",
       "        \n",
       "        <tr>\n",
       "          <td>4</td><td>(1, 0, 1, 0, 1, ..., 0)</td>\n",
       "        </tr>\n",
       "        \n",
       "      </tbody>\n",
       "    </table>\n",
       "        "
      ],
      "text/plain": [
       "Index Result\n",
       "0     (1, 0, 1, 0, 0, ..., 0)\n",
       "1     (0, 1, 0, 1, 0, ..., 0)\n",
       "2     (0, 0, 1, 0, 0, ..., 1)\n",
       "3     (1, 1, 1, 0, 0, ..., 0)\n",
       "4     (1, 0, 1, 0, 1, ..., 0)"
      ]
     },
     "execution_count": 14,
     "metadata": {},
     "output_type": "execute_result"
    }
   ],
   "source": [
    "P.sim(5)"
   ]
  },
  {
   "cell_type": "code",
   "execution_count": 15,
   "id": "160a0a9f",
   "metadata": {},
   "outputs": [
    {
     "data": {
      "image/png": "[encoded data removed]",
      "text/plain": [
       "<Figure size 432x288 with 1 Axes>"
      ]
     },
     "metadata": {
      "needs_background": "light"
     },
     "output_type": "display_data"
    }
   ],
   "source": [
    "X = RV(P, sum)\n",
    "X.sim(1000).plot()"
   ]
  }
 ],
 "metadata": {
  "kernelspec": {
   "display_name": "Python 3",
   "language": "python",
   "name": "python3"
  },
  "language_info": {
   "codemirror_mode": {
    "name": "ipython",
    "version": 3
   },
   "file_extension": ".py",
   "mimetype": "text/x-python",
   "name": "python",
   "nbconvert_exporter": "python",
   "pygments_lexer": "ipython3",
   "version": "3.9.5"
  }
 },
 "nbformat": 4,
 "nbformat_minor": 5
}
