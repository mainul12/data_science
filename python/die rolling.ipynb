{
 "cells": [
  {
   "cell_type": "markdown",
   "id": "8f3b427e",
   "metadata": {},
   "source": [
    "[x chisquare with 9 dof, probabiality 3x-5<7](https://www.wolframalpha.com/input/?i=x+chisquare+with+9+dof%2C+probabiality+3x-5%3C7)"
   ]
  },
  {
   "cell_type": "code",
   "execution_count": 21,
   "id": "9e2b5ace",
   "metadata": {},
   "outputs": [],
   "source": [
    "import matplotlib.pyplot as plt"
   ]
  },
  {
   "cell_type": "code",
   "execution_count": 1,
   "id": "677f0ad4",
   "metadata": {},
   "outputs": [],
   "source": [
    "from symbulate import *\n",
    "%matplotlib inline"
   ]
  },
  {
   "cell_type": "code",
   "execution_count": 4,
   "id": "6ec9db27",
   "metadata": {},
   "outputs": [],
   "source": [
    "from statistics import mean"
   ]
  },
  {
   "cell_type": "code",
   "execution_count": 9,
   "id": "308549b0",
   "metadata": {},
   "outputs": [],
   "source": [
    "P = BoxModel([1, 2, 3, 4, 5, 6], 10)"
   ]
  },
  {
   "cell_type": "code",
   "execution_count": 10,
   "id": "029984c4",
   "metadata": {},
   "outputs": [
    {
     "data": {
      "text/html": [
       "\n",
       "    <table>\n",
       "      <thead>\n",
       "        <th width=\"10%\">Index</th>\n",
       "        <th width=\"90%\">Result</th>\n",
       "      </thead>\n",
       "      <tbody>\n",
       "        \n",
       "        <tr>\n",
       "          <td>0</td><td>(2, 5, 1, 3, 4, ..., 5)</td>\n",
       "        </tr>\n",
       "        \n",
       "        <tr>\n",
       "          <td>1</td><td>(1, 4, 4, 3, 5, ..., 3)</td>\n",
       "        </tr>\n",
       "        \n",
       "        <tr>\n",
       "          <td>2</td><td>(1, 4, 5, 3, 6, ..., 2)</td>\n",
       "        </tr>\n",
       "        \n",
       "      </tbody>\n",
       "    </table>\n",
       "        "
      ],
      "text/plain": [
       "Index Result\n",
       "0     (2, 5, 1, 3, 4, ..., 5)\n",
       "1     (1, 4, 4, 3, 5, ..., 3)\n",
       "2     (1, 4, 5, 3, 6, ..., 2)"
      ]
     },
     "execution_count": 10,
     "metadata": {},
     "output_type": "execute_result"
    }
   ],
   "source": [
    "P.sim(3)"
   ]
  },
  {
   "cell_type": "code",
   "execution_count": 14,
   "id": "7dd8aa91",
   "metadata": {},
   "outputs": [
    {
     "data": {
      "image/png": "[encoded data removed]",
      "text/plain": [
       "<Figure size 432x288 with 1 Axes>"
      ]
     },
     "metadata": {
      "needs_background": "light"
     },
     "output_type": "display_data"
    }
   ],
   "source": [
    "Y = RV(P, sum)\n",
    "\n",
    "Y.sim(10000).plot()"
   ]
  },
  {
   "cell_type": "markdown",
   "id": "2257ad37",
   "metadata": {},
   "source": [
    "[5 six sided die](https://www.wolframalpha.com/input/?i=5+six+sided+die)"
   ]
  },
  {
   "cell_type": "code",
   "execution_count": 16,
   "id": "33c2ed59",
   "metadata": {},
   "outputs": [],
   "source": [
    "P5 = BoxModel([1, 2, 3, 4, 5, 6], 5)"
   ]
  },
  {
   "cell_type": "code",
   "execution_count": 17,
   "id": "9227405b",
   "metadata": {},
   "outputs": [
    {
     "data": {
      "image/png": "[encoded data removed]",
      "text/plain": [
       "<Figure size 432x288 with 1 Axes>"
      ]
     },
     "metadata": {
      "needs_background": "light"
     },
     "output_type": "display_data"
    }
   ],
   "source": [
    "Y = RV(P5, sum)\n",
    "\n",
    "Y.sim(10000).plot()"
   ]
  },
  {
   "cell_type": "code",
   "execution_count": null,
   "id": "bef01e46",
   "metadata": {},
   "outputs": [],
   "source": []
  },
  {
   "cell_type": "code",
   "execution_count": null,
   "id": "12354e61",
   "metadata": {},
   "outputs": [],
   "source": []
  },
  {
   "cell_type": "code",
   "execution_count": 11,
   "id": "eda38e9e",
   "metadata": {},
   "outputs": [],
   "source": [
    "P2 = BoxModel([1, 2, 3, 4, 5, 6])"
   ]
  },
  {
   "cell_type": "code",
   "execution_count": 12,
   "id": "8988e9d6",
   "metadata": {},
   "outputs": [
    {
     "data": {
      "text/html": [
       "\n",
       "    <table>\n",
       "      <thead>\n",
       "        <th width=\"10%\">Index</th>\n",
       "        <th width=\"90%\">Result</th>\n",
       "      </thead>\n",
       "      <tbody>\n",
       "        \n",
       "        <tr>\n",
       "          <td>0</td><td>2</td>\n",
       "        </tr>\n",
       "        \n",
       "        <tr>\n",
       "          <td>1</td><td>3</td>\n",
       "        </tr>\n",
       "        \n",
       "        <tr>\n",
       "          <td>2</td><td>4</td>\n",
       "        </tr>\n",
       "        \n",
       "      </tbody>\n",
       "    </table>\n",
       "        "
      ],
      "text/plain": [
       "Index Result\n",
       "0     2\n",
       "1     3\n",
       "2     4"
      ]
     },
     "execution_count": 12,
     "metadata": {},
     "output_type": "execute_result"
    }
   ],
   "source": [
    "P2.sim(3)"
   ]
  },
  {
   "cell_type": "code",
   "execution_count": 13,
   "id": "dac6b5bc",
   "metadata": {},
   "outputs": [
    {
     "data": {
      "image/png": "[encoded data removed]",
      "text/plain": [
       "<Figure size 432x288 with 1 Axes>"
      ]
     },
     "metadata": {
      "needs_background": "light"
     },
     "output_type": "display_data"
    }
   ],
   "source": [
    "X = RV(P2)\n",
    "\n",
    "X.sim(10000).plot()"
   ]
  },
  {
   "cell_type": "code",
   "execution_count": 7,
   "id": "12a27b8c",
   "metadata": {},
   "outputs": [
    {
     "data": {
      "image/png": "[encoded data removed]",
      "text/plain": [
       "<Figure size 432x288 with 1 Axes>"
      ]
     },
     "metadata": {
      "needs_background": "light"
     },
     "output_type": "display_data"
    }
   ],
   "source": [
    "R = BoxModel([1, 2,3, 4, 5, 6], 10)\n",
    "\n",
    "Y = RV(R, mean)\n",
    "\n",
    "Y.sim(10000).plot()"
   ]
  },
  {
   "cell_type": "code",
   "execution_count": 15,
   "id": "ff2eeb70",
   "metadata": {},
   "outputs": [],
   "source": [
    "a = []\n",
    "\n",
    "for i in Y.sim(100):\n",
    "    a.append(i)"
   ]
  },
  {
   "cell_type": "code",
   "execution_count": 26,
   "id": "8c02a012",
   "metadata": {},
   "outputs": [],
   "source": [
    "## the loc and scale was checked using Wolfram Mathematica\n",
    "\n",
    "from numpy.random import default_rng\n",
    "\n",
    "rng = default_rng()\n",
    "\n",
    "data = rng.normal(loc = 3.4, scale = 0.54, size = 10000)"
   ]
  },
  {
   "cell_type": "code",
   "execution_count": 25,
   "id": "e97007e3",
   "metadata": {},
   "outputs": [
    {
     "data": {
      "text/plain": [
       "(array([5.000e+00, 6.000e+00, 7.000e+00, 2.500e+01, 3.900e+01, 7.700e+01,\n",
       "        1.300e+02, 2.360e+02, 3.400e+02, 4.540e+02, 6.530e+02, 7.760e+02,\n",
       "        9.580e+02, 1.019e+03, 1.072e+03, 9.780e+02, 8.330e+02, 7.590e+02,\n",
       "        5.810e+02, 4.030e+02, 2.540e+02, 1.940e+02, 1.130e+02, 5.000e+01,\n",
       "        1.900e+01, 1.200e+01, 6.000e+00, 0.000e+00, 0.000e+00, 1.000e+00]),\n",
       " array([1.36792659, 1.51047918, 1.65303178, 1.79558437, 1.93813696,\n",
       "        2.08068956, 2.22324215, 2.36579475, 2.50834734, 2.65089993,\n",
       "        2.79345253, 2.93600512, 3.07855772, 3.22111031, 3.3636629 ,\n",
       "        3.5062155 , 3.64876809, 3.79132068, 3.93387328, 4.07642587,\n",
       "        4.21897847, 4.36153106, 4.50408365, 4.64663625, 4.78918884,\n",
       "        4.93174144, 5.07429403, 5.21684662, 5.35939922, 5.50195181,\n",
       "        5.6445044 ]),\n",
       " <BarContainer object of 30 artists>)"
      ]
     },
     "execution_count": 25,
     "metadata": {},
     "output_type": "execute_result"
    },
    {
     "data": {
      "image/png": "[encoded data removed]",
      "text/plain": [
       "<Figure size 432x288 with 1 Axes>"
      ]
     },
     "metadata": {
      "needs_background": "light"
     },
     "output_type": "display_data"
    }
   ],
   "source": [
    "plt.hist(data, bins=30)"
   ]
  }
 ],
 "metadata": {
  "kernelspec": {
   "display_name": "Python 3",
   "language": "python",
   "name": "python3"
  },
  "language_info": {
   "codemirror_mode": {
    "name": "ipython",
    "version": 3
   },
   "file_extension": ".py",
   "mimetype": "text/x-python",
   "name": "python",
   "nbconvert_exporter": "python",
   "pygments_lexer": "ipython3",
   "version": "3.9.5"
  }
 },
 "nbformat": 4,
 "nbformat_minor": 5
}
