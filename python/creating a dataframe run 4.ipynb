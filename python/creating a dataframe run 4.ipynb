{
 "cells": [
  {
   "cell_type": "code",
   "execution_count": 4,
   "id": "f53a58cc",
   "metadata": {},
   "outputs": [],
   "source": [
    "import numpy as np"
   ]
  },
  {
   "cell_type": "code",
   "execution_count": 1,
   "id": "11e9aacb",
   "metadata": {},
   "outputs": [],
   "source": [
    "import pandas as pd"
   ]
  },
  {
   "cell_type": "code",
   "execution_count": 2,
   "id": "8d732e50",
   "metadata": {},
   "outputs": [],
   "source": [
    "dates = pd.date_range(\"2021-05-12\", periods=5)"
   ]
  },
  {
   "cell_type": "code",
   "execution_count": 3,
   "id": "f06b216f",
   "metadata": {},
   "outputs": [
    {
     "data": {
      "text/plain": [
       "DatetimeIndex(['2021-05-12', '2021-05-13', '2021-05-14', '2021-05-15',\n",
       "               '2021-05-16'],\n",
       "              dtype='datetime64[ns]', freq='D')"
      ]
     },
     "execution_count": 3,
     "metadata": {},
     "output_type": "execute_result"
    }
   ],
   "source": [
    "dates"
   ]
  },
  {
   "cell_type": "markdown",
   "id": "33ecee45",
   "metadata": {},
   "source": [
    "[numpy random source](https://numpy.org/doc/stable/reference/random/index.html#quick-start)"
   ]
  },
  {
   "cell_type": "code",
   "execution_count": 5,
   "id": "bcdc0ce6",
   "metadata": {},
   "outputs": [],
   "source": [
    "from numpy.random import default_rng"
   ]
  },
  {
   "cell_type": "code",
   "execution_count": 6,
   "id": "76fb102a",
   "metadata": {},
   "outputs": [],
   "source": [
    "rng = default_rng()"
   ]
  },
  {
   "cell_type": "code",
   "execution_count": 11,
   "id": "f504b6e7",
   "metadata": {},
   "outputs": [],
   "source": [
    "data = rng.normal(10, 2, (5, 5))"
   ]
  },
  {
   "cell_type": "code",
   "execution_count": 12,
   "id": "2d560cff",
   "metadata": {},
   "outputs": [
    {
     "data": {
      "text/plain": [
       "array([[ 8.56117481, 10.4968574 ,  6.3773614 , 10.71657801,  6.86215963],\n",
       "       [13.60354625, 10.1101909 , 14.87783576, 15.62315919,  8.83153822],\n",
       "       [10.65879854,  9.89186203, 11.52424701,  9.75864239,  7.66637852],\n",
       "       [ 6.94219238, 13.51858646,  9.25014254,  8.75685091,  8.77398792],\n",
       "       [ 8.67789483,  8.24916521, 12.9128255 , 10.83876772,  6.45717098]])"
      ]
     },
     "execution_count": 12,
     "metadata": {},
     "output_type": "execute_result"
    }
   ],
   "source": [
    "data"
   ]
  },
  {
   "cell_type": "code",
   "execution_count": 13,
   "id": "16723b32",
   "metadata": {},
   "outputs": [],
   "source": [
    "columns = list(\"ABCDE\")"
   ]
  },
  {
   "cell_type": "code",
   "execution_count": 14,
   "id": "f2d7921b",
   "metadata": {},
   "outputs": [],
   "source": [
    "df = pd.DataFrame(data, index=dates, columns=columns)"
   ]
  },
  {
   "cell_type": "code",
   "execution_count": 15,
   "id": "5ee42f28",
   "metadata": {},
   "outputs": [
    {
     "data": {
      "text/html": [
       "<div>\n",
       "<style scoped>\n",
       "    .dataframe tbody tr th:only-of-type {\n",
       "        vertical-align: middle;\n",
       "    }\n",
       "\n",
       "    .dataframe tbody tr th {\n",
       "        vertical-align: top;\n",
       "    }\n",
       "\n",
       "    .dataframe thead th {\n",
       "        text-align: right;\n",
       "    }\n",
       "</style>\n",
       "<table border=\"1\" class=\"dataframe\">\n",
       "  <thead>\n",
       "    <tr style=\"text-align: right;\">\n",
       "      <th></th>\n",
       "      <th>A</th>\n",
       "      <th>B</th>\n",
       "      <th>C</th>\n",
       "      <th>D</th>\n",
       "      <th>E</th>\n",
       "    </tr>\n",
       "  </thead>\n",
       "  <tbody>\n",
       "    <tr>\n",
       "      <th>2021-05-12</th>\n",
       "      <td>8.561175</td>\n",
       "      <td>10.496857</td>\n",
       "      <td>6.377361</td>\n",
       "      <td>10.716578</td>\n",
       "      <td>6.862160</td>\n",
       "    </tr>\n",
       "    <tr>\n",
       "      <th>2021-05-13</th>\n",
       "      <td>13.603546</td>\n",
       "      <td>10.110191</td>\n",
       "      <td>14.877836</td>\n",
       "      <td>15.623159</td>\n",
       "      <td>8.831538</td>\n",
       "    </tr>\n",
       "    <tr>\n",
       "      <th>2021-05-14</th>\n",
       "      <td>10.658799</td>\n",
       "      <td>9.891862</td>\n",
       "      <td>11.524247</td>\n",
       "      <td>9.758642</td>\n",
       "      <td>7.666379</td>\n",
       "    </tr>\n",
       "    <tr>\n",
       "      <th>2021-05-15</th>\n",
       "      <td>6.942192</td>\n",
       "      <td>13.518586</td>\n",
       "      <td>9.250143</td>\n",
       "      <td>8.756851</td>\n",
       "      <td>8.773988</td>\n",
       "    </tr>\n",
       "    <tr>\n",
       "      <th>2021-05-16</th>\n",
       "      <td>8.677895</td>\n",
       "      <td>8.249165</td>\n",
       "      <td>12.912825</td>\n",
       "      <td>10.838768</td>\n",
       "      <td>6.457171</td>\n",
       "    </tr>\n",
       "  </tbody>\n",
       "</table>\n",
       "</div>"
      ],
      "text/plain": [
       "                    A          B          C          D         E\n",
       "2021-05-12   8.561175  10.496857   6.377361  10.716578  6.862160\n",
       "2021-05-13  13.603546  10.110191  14.877836  15.623159  8.831538\n",
       "2021-05-14  10.658799   9.891862  11.524247   9.758642  7.666379\n",
       "2021-05-15   6.942192  13.518586   9.250143   8.756851  8.773988\n",
       "2021-05-16   8.677895   8.249165  12.912825  10.838768  6.457171"
      ]
     },
     "execution_count": 15,
     "metadata": {},
     "output_type": "execute_result"
    }
   ],
   "source": [
    "df"
   ]
  },
  {
   "cell_type": "code",
   "execution_count": null,
   "id": "d0b4fb28",
   "metadata": {},
   "outputs": [],
   "source": []
  }
 ],
 "metadata": {
  "kernelspec": {
   "display_name": "Python 3",
   "language": "python",
   "name": "python3"
  },
  "language_info": {
   "codemirror_mode": {
    "name": "ipython",
    "version": 3
   },
   "file_extension": ".py",
   "mimetype": "text/x-python",
   "name": "python",
   "nbconvert_exporter": "python",
   "pygments_lexer": "ipython3",
   "version": "3.9.5"
  }
 },
 "nbformat": 4,
 "nbformat_minor": 5
}
