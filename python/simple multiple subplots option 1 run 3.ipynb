{
 "cells": [
  {
   "cell_type": "code",
   "execution_count": 1,
   "metadata": {},
   "outputs": [],
   "source": [
    "from numpy.random import default_rng"
   ]
  },
  {
   "cell_type": "code",
   "execution_count": 7,
   "metadata": {},
   "outputs": [],
   "source": [
    "import matplotlib.pyplot as plt\n",
    "%matplotlib inline"
   ]
  },
  {
   "cell_type": "code",
   "execution_count": 2,
   "metadata": {},
   "outputs": [],
   "source": [
    "rng = default_rng()"
   ]
  },
  {
   "cell_type": "code",
   "execution_count": 4,
   "metadata": {},
   "outputs": [],
   "source": [
    "data1 = rng.normal(3, 4, 1000)"
   ]
  },
  {
   "cell_type": "code",
   "execution_count": 5,
   "metadata": {},
   "outputs": [],
   "source": [
    "data2 = rng.normal(5, 10, 1000)"
   ]
  },
  {
   "cell_type": "code",
   "execution_count": 11,
   "metadata": {},
   "outputs": [
    {
     "data": {
      "text/plain": [
       "(array([ 1.,  0.,  0.,  0.,  0.,  0.,  0.,  1.,  1.,  1.,  1.,  3.,  2.,\n",
       "         1.,  3.,  2.,  4.,  8.,  3.,  5., 12.,  5.,  6., 10., 10., 18.,\n",
       "        13., 10., 13., 20., 22., 16., 21., 21., 19., 19., 23., 31., 22.,\n",
       "        23., 28., 31., 24., 33., 29., 28., 24., 32., 22., 29., 17., 33.,\n",
       "        24., 27., 20., 16., 29., 26., 24.,  7., 19., 14., 14.,  8.,  7.,\n",
       "         8.,  4.,  7.,  6.,  9.,  8.,  3.,  1.,  4.,  5.,  1.,  1.,  0.,\n",
       "         1.,  1.,  1.,  0.,  0.,  0.,  1.,  2.,  0.,  0.,  1.,  0.,  0.,\n",
       "         0.,  0.,  0.,  0.,  0.,  0.,  0.,  0.,  1.]),\n",
       " array([-26.92728086, -26.21645032, -25.50561978, -24.79478924,\n",
       "        -24.0839587 , -23.37312817, -22.66229763, -21.95146709,\n",
       "        -21.24063655, -20.52980601, -19.81897547, -19.10814494,\n",
       "        -18.3973144 , -17.68648386, -16.97565332, -16.26482278,\n",
       "        -15.55399224, -14.84316171, -14.13233117, -13.42150063,\n",
       "        -12.71067009, -11.99983955, -11.28900901, -10.57817848,\n",
       "         -9.86734794,  -9.1565174 ,  -8.44568686,  -7.73485632,\n",
       "         -7.02402578,  -6.31319525,  -5.60236471,  -4.89153417,\n",
       "         -4.18070363,  -3.46987309,  -2.75904255,  -2.04821202,\n",
       "         -1.33738148,  -0.62655094,   0.0842796 ,   0.79511014,\n",
       "          1.50594068,   2.21677121,   2.92760175,   3.63843229,\n",
       "          4.34926283,   5.06009337,   5.77092391,   6.48175444,\n",
       "          7.19258498,   7.90341552,   8.61424606,   9.3250766 ,\n",
       "         10.03590714,  10.74673767,  11.45756821,  12.16839875,\n",
       "         12.87922929,  13.59005983,  14.30089037,  15.0117209 ,\n",
       "         15.72255144,  16.43338198,  17.14421252,  17.85504306,\n",
       "         18.5658736 ,  19.27670413,  19.98753467,  20.69836521,\n",
       "         21.40919575,  22.12002629,  22.83085683,  23.54168736,\n",
       "         24.2525179 ,  24.96334844,  25.67417898,  26.38500952,\n",
       "         27.09584006,  27.80667059,  28.51750113,  29.22833167,\n",
       "         29.93916221,  30.64999275,  31.36082329,  32.07165382,\n",
       "         32.78248436,  33.4933149 ,  34.20414544,  34.91497598,\n",
       "         35.62580652,  36.33663705,  37.04746759,  37.75829813,\n",
       "         38.46912867,  39.17995921,  39.89078975,  40.60162028,\n",
       "         41.31245082,  42.02328136,  42.7341119 ,  43.44494244,\n",
       "         44.15577298]),\n",
       " <BarContainer object of 100 artists>)"
      ]
     },
     "execution_count": 11,
     "metadata": {},
     "output_type": "execute_result"
    },
    {
     "data": {
      "image/png": "[encoded data removed]",
      "text/plain": [
       "<Figure size 432x288 with 2 Axes>"
      ]
     },
     "metadata": {
      "needs_background": "light"
     },
     "output_type": "display_data"
    }
   ],
   "source": [
    "fig, (ax1, ax2) = plt.subplots(2, 1)\n",
    "fig.suptitle(\"a tale of two subplots\")\n",
    "\n",
    "ax1.hist(data1, color=\"red\", bins=100)\n",
    "ax2.hist(data2, color=\"orange\", bins=100)"
   ]
  },
  {
   "cell_type": "code",
   "execution_count": null,
   "metadata": {},
   "outputs": [],
   "source": []
  }
 ],
 "metadata": {
  "kernelspec": {
   "display_name": "Python 3",
   "language": "python",
   "name": "python3"
  },
  "language_info": {
   "codemirror_mode": {
    "name": "ipython",
    "version": 3
   },
   "file_extension": ".py",
   "mimetype": "text/x-python",
   "name": "python",
   "nbconvert_exporter": "python",
   "pygments_lexer": "ipython3",
   "version": "3.9.0"
  }
 },
 "nbformat": 4,
 "nbformat_minor": 4
}
