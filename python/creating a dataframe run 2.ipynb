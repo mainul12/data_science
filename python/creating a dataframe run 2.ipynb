{
 "cells": [
  {
   "cell_type": "code",
   "execution_count": 1,
   "metadata": {},
   "outputs": [],
   "source": [
    "import numpy as np"
   ]
  },
  {
   "cell_type": "code",
   "execution_count": 2,
   "metadata": {},
   "outputs": [],
   "source": [
    "import pandas as pd"
   ]
  },
  {
   "cell_type": "code",
   "execution_count": 5,
   "metadata": {},
   "outputs": [],
   "source": [
    "dates = pd.date_range(\"2021-04-13\", periods=6)"
   ]
  },
  {
   "cell_type": "code",
   "execution_count": 6,
   "metadata": {},
   "outputs": [
    {
     "data": {
      "text/plain": [
       "DatetimeIndex(['2021-04-13', '2021-04-14', '2021-04-15', '2021-04-16',\n",
       "               '2021-04-17', '2021-04-18'],\n",
       "              dtype='datetime64[ns]', freq='D')"
      ]
     },
     "execution_count": 6,
     "metadata": {},
     "output_type": "execute_result"
    }
   ],
   "source": [
    "dates"
   ]
  },
  {
   "cell_type": "code",
   "execution_count": 7,
   "metadata": {},
   "outputs": [],
   "source": [
    "df = pd.DataFrame(np.random.randn(6, 4), index = dates, columns = list(\"ABCD\"))"
   ]
  },
  {
   "cell_type": "code",
   "execution_count": 8,
   "metadata": {},
   "outputs": [
    {
     "data": {
      "text/html": [
       "<div>\n",
       "<style scoped>\n",
       "    .dataframe tbody tr th:only-of-type {\n",
       "        vertical-align: middle;\n",
       "    }\n",
       "\n",
       "    .dataframe tbody tr th {\n",
       "        vertical-align: top;\n",
       "    }\n",
       "\n",
       "    .dataframe thead th {\n",
       "        text-align: right;\n",
       "    }\n",
       "</style>\n",
       "<table border=\"1\" class=\"dataframe\">\n",
       "  <thead>\n",
       "    <tr style=\"text-align: right;\">\n",
       "      <th></th>\n",
       "      <th>A</th>\n",
       "      <th>B</th>\n",
       "      <th>C</th>\n",
       "      <th>D</th>\n",
       "    </tr>\n",
       "  </thead>\n",
       "  <tbody>\n",
       "    <tr>\n",
       "      <th>2021-04-13</th>\n",
       "      <td>-0.208535</td>\n",
       "      <td>0.560544</td>\n",
       "      <td>-0.683322</td>\n",
       "      <td>-2.229230</td>\n",
       "    </tr>\n",
       "    <tr>\n",
       "      <th>2021-04-14</th>\n",
       "      <td>-0.509653</td>\n",
       "      <td>-1.876292</td>\n",
       "      <td>-0.816747</td>\n",
       "      <td>-0.662255</td>\n",
       "    </tr>\n",
       "    <tr>\n",
       "      <th>2021-04-15</th>\n",
       "      <td>-0.731282</td>\n",
       "      <td>0.505339</td>\n",
       "      <td>1.114002</td>\n",
       "      <td>-1.093178</td>\n",
       "    </tr>\n",
       "    <tr>\n",
       "      <th>2021-04-16</th>\n",
       "      <td>-0.269910</td>\n",
       "      <td>-0.194758</td>\n",
       "      <td>0.467887</td>\n",
       "      <td>0.602086</td>\n",
       "    </tr>\n",
       "    <tr>\n",
       "      <th>2021-04-17</th>\n",
       "      <td>0.068997</td>\n",
       "      <td>0.187903</td>\n",
       "      <td>-0.439848</td>\n",
       "      <td>-0.167610</td>\n",
       "    </tr>\n",
       "    <tr>\n",
       "      <th>2021-04-18</th>\n",
       "      <td>-0.306802</td>\n",
       "      <td>-1.115461</td>\n",
       "      <td>1.250045</td>\n",
       "      <td>1.108362</td>\n",
       "    </tr>\n",
       "  </tbody>\n",
       "</table>\n",
       "</div>"
      ],
      "text/plain": [
       "                   A         B         C         D\n",
       "2021-04-13 -0.208535  0.560544 -0.683322 -2.229230\n",
       "2021-04-14 -0.509653 -1.876292 -0.816747 -0.662255\n",
       "2021-04-15 -0.731282  0.505339  1.114002 -1.093178\n",
       "2021-04-16 -0.269910 -0.194758  0.467887  0.602086\n",
       "2021-04-17  0.068997  0.187903 -0.439848 -0.167610\n",
       "2021-04-18 -0.306802 -1.115461  1.250045  1.108362"
      ]
     },
     "execution_count": 8,
     "metadata": {},
     "output_type": "execute_result"
    }
   ],
   "source": [
    "df"
   ]
  },
  {
   "cell_type": "code",
   "execution_count": null,
   "metadata": {},
   "outputs": [],
   "source": []
  }
 ],
 "metadata": {
  "kernelspec": {
   "display_name": "Python 3",
   "language": "python",
   "name": "python3"
  },
  "language_info": {
   "codemirror_mode": {
    "name": "ipython",
    "version": 3
   },
   "file_extension": ".py",
   "mimetype": "text/x-python",
   "name": "python",
   "nbconvert_exporter": "python",
   "pygments_lexer": "ipython3",
   "version": "3.9.0"
  }
 },
 "nbformat": 4,
 "nbformat_minor": 4
}
