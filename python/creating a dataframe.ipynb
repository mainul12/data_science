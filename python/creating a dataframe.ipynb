{
 "cells": [
  {
   "cell_type": "markdown",
   "metadata": {},
   "source": [
    "### Task: Creating a DataFrame by passing a NumPy array, with a datetime index and labeled columns\n",
    "\n",
    "[Source](https://pandas.pydata.org/docs/user_guide/10min.html#object-creation)"
   ]
  },
  {
   "cell_type": "code",
   "execution_count": 1,
   "metadata": {},
   "outputs": [],
   "source": [
    "import numpy as np"
   ]
  },
  {
   "cell_type": "code",
   "execution_count": 2,
   "metadata": {},
   "outputs": [],
   "source": [
    "import pandas as pd"
   ]
  },
  {
   "cell_type": "code",
   "execution_count": 9,
   "metadata": {},
   "outputs": [],
   "source": [
    "dates = pd.date_range(\"2021/04/10\", periods=6)"
   ]
  },
  {
   "cell_type": "code",
   "execution_count": 10,
   "metadata": {},
   "outputs": [
    {
     "data": {
      "text/plain": [
       "DatetimeIndex(['2021-04-10', '2021-04-11', '2021-04-12', '2021-04-13',\n",
       "               '2021-04-14', '2021-04-15'],\n",
       "              dtype='datetime64[ns]', freq='D')"
      ]
     },
     "execution_count": 10,
     "metadata": {},
     "output_type": "execute_result"
    }
   ],
   "source": [
    "dates"
   ]
  },
  {
   "cell_type": "code",
   "execution_count": 11,
   "metadata": {},
   "outputs": [],
   "source": [
    "df = pd.DataFrame(np.random.randn(6,4), index = dates, columns=list(\"ABCD\"))"
   ]
  },
  {
   "cell_type": "code",
   "execution_count": 12,
   "metadata": {},
   "outputs": [
    {
     "data": {
      "text/html": [
       "<div>\n",
       "<style scoped>\n",
       "    .dataframe tbody tr th:only-of-type {\n",
       "        vertical-align: middle;\n",
       "    }\n",
       "\n",
       "    .dataframe tbody tr th {\n",
       "        vertical-align: top;\n",
       "    }\n",
       "\n",
       "    .dataframe thead th {\n",
       "        text-align: right;\n",
       "    }\n",
       "</style>\n",
       "<table border=\"1\" class=\"dataframe\">\n",
       "  <thead>\n",
       "    <tr style=\"text-align: right;\">\n",
       "      <th></th>\n",
       "      <th>A</th>\n",
       "      <th>B</th>\n",
       "      <th>C</th>\n",
       "      <th>D</th>\n",
       "    </tr>\n",
       "  </thead>\n",
       "  <tbody>\n",
       "    <tr>\n",
       "      <th>2021-04-10</th>\n",
       "      <td>-0.270000</td>\n",
       "      <td>-1.870461</td>\n",
       "      <td>0.304017</td>\n",
       "      <td>-1.700425</td>\n",
       "    </tr>\n",
       "    <tr>\n",
       "      <th>2021-04-11</th>\n",
       "      <td>-0.460347</td>\n",
       "      <td>0.285832</td>\n",
       "      <td>-1.092381</td>\n",
       "      <td>0.215329</td>\n",
       "    </tr>\n",
       "    <tr>\n",
       "      <th>2021-04-12</th>\n",
       "      <td>-2.129161</td>\n",
       "      <td>-1.501454</td>\n",
       "      <td>-0.250933</td>\n",
       "      <td>-1.749931</td>\n",
       "    </tr>\n",
       "    <tr>\n",
       "      <th>2021-04-13</th>\n",
       "      <td>-0.571015</td>\n",
       "      <td>0.292894</td>\n",
       "      <td>0.327346</td>\n",
       "      <td>-1.013831</td>\n",
       "    </tr>\n",
       "    <tr>\n",
       "      <th>2021-04-14</th>\n",
       "      <td>-0.381712</td>\n",
       "      <td>0.448550</td>\n",
       "      <td>0.299680</td>\n",
       "      <td>0.322640</td>\n",
       "    </tr>\n",
       "    <tr>\n",
       "      <th>2021-04-15</th>\n",
       "      <td>1.621472</td>\n",
       "      <td>-0.097701</td>\n",
       "      <td>-0.579247</td>\n",
       "      <td>0.115274</td>\n",
       "    </tr>\n",
       "  </tbody>\n",
       "</table>\n",
       "</div>"
      ],
      "text/plain": [
       "                   A         B         C         D\n",
       "2021-04-10 -0.270000 -1.870461  0.304017 -1.700425\n",
       "2021-04-11 -0.460347  0.285832 -1.092381  0.215329\n",
       "2021-04-12 -2.129161 -1.501454 -0.250933 -1.749931\n",
       "2021-04-13 -0.571015  0.292894  0.327346 -1.013831\n",
       "2021-04-14 -0.381712  0.448550  0.299680  0.322640\n",
       "2021-04-15  1.621472 -0.097701 -0.579247  0.115274"
      ]
     },
     "execution_count": 12,
     "metadata": {},
     "output_type": "execute_result"
    }
   ],
   "source": [
    "df"
   ]
  },
  {
   "cell_type": "code",
   "execution_count": 13,
   "metadata": {},
   "outputs": [],
   "source": [
    "dates = pd.date_range(\"2021-04-21\", periods=10)"
   ]
  },
  {
   "cell_type": "code",
   "execution_count": 19,
   "metadata": {},
   "outputs": [],
   "source": [
    "data = np.random.randn(10, 5)"
   ]
  },
  {
   "cell_type": "code",
   "execution_count": 21,
   "metadata": {},
   "outputs": [],
   "source": [
    "df2 = pd.DataFrame(data, index=dates, columns = list(\"ABCDE\"))"
   ]
  },
  {
   "cell_type": "code",
   "execution_count": 22,
   "metadata": {},
   "outputs": [
    {
     "data": {
      "text/html": [
       "<div>\n",
       "<style scoped>\n",
       "    .dataframe tbody tr th:only-of-type {\n",
       "        vertical-align: middle;\n",
       "    }\n",
       "\n",
       "    .dataframe tbody tr th {\n",
       "        vertical-align: top;\n",
       "    }\n",
       "\n",
       "    .dataframe thead th {\n",
       "        text-align: right;\n",
       "    }\n",
       "</style>\n",
       "<table border=\"1\" class=\"dataframe\">\n",
       "  <thead>\n",
       "    <tr style=\"text-align: right;\">\n",
       "      <th></th>\n",
       "      <th>A</th>\n",
       "      <th>B</th>\n",
       "      <th>C</th>\n",
       "      <th>D</th>\n",
       "      <th>E</th>\n",
       "    </tr>\n",
       "  </thead>\n",
       "  <tbody>\n",
       "    <tr>\n",
       "      <th>2021-04-21</th>\n",
       "      <td>2.789831</td>\n",
       "      <td>0.678971</td>\n",
       "      <td>-0.696041</td>\n",
       "      <td>1.011196</td>\n",
       "      <td>0.890270</td>\n",
       "    </tr>\n",
       "    <tr>\n",
       "      <th>2021-04-22</th>\n",
       "      <td>-1.263842</td>\n",
       "      <td>0.592089</td>\n",
       "      <td>-0.668019</td>\n",
       "      <td>-0.951246</td>\n",
       "      <td>-1.227220</td>\n",
       "    </tr>\n",
       "    <tr>\n",
       "      <th>2021-04-23</th>\n",
       "      <td>0.647343</td>\n",
       "      <td>-0.821211</td>\n",
       "      <td>0.331160</td>\n",
       "      <td>-1.227249</td>\n",
       "      <td>0.253579</td>\n",
       "    </tr>\n",
       "    <tr>\n",
       "      <th>2021-04-24</th>\n",
       "      <td>-2.666238</td>\n",
       "      <td>0.275802</td>\n",
       "      <td>-0.551801</td>\n",
       "      <td>-0.978444</td>\n",
       "      <td>0.420358</td>\n",
       "    </tr>\n",
       "    <tr>\n",
       "      <th>2021-04-25</th>\n",
       "      <td>-0.531960</td>\n",
       "      <td>0.488001</td>\n",
       "      <td>-2.135537</td>\n",
       "      <td>-1.113503</td>\n",
       "      <td>0.107094</td>\n",
       "    </tr>\n",
       "    <tr>\n",
       "      <th>2021-04-26</th>\n",
       "      <td>-0.699187</td>\n",
       "      <td>-0.562929</td>\n",
       "      <td>2.287613</td>\n",
       "      <td>0.886462</td>\n",
       "      <td>-0.674230</td>\n",
       "    </tr>\n",
       "    <tr>\n",
       "      <th>2021-04-27</th>\n",
       "      <td>1.096198</td>\n",
       "      <td>0.255474</td>\n",
       "      <td>0.288377</td>\n",
       "      <td>0.849951</td>\n",
       "      <td>-0.199211</td>\n",
       "    </tr>\n",
       "    <tr>\n",
       "      <th>2021-04-28</th>\n",
       "      <td>1.020384</td>\n",
       "      <td>-0.485633</td>\n",
       "      <td>-0.107728</td>\n",
       "      <td>0.697694</td>\n",
       "      <td>0.004194</td>\n",
       "    </tr>\n",
       "    <tr>\n",
       "      <th>2021-04-29</th>\n",
       "      <td>1.037593</td>\n",
       "      <td>0.154627</td>\n",
       "      <td>-1.382451</td>\n",
       "      <td>0.644846</td>\n",
       "      <td>-1.863622</td>\n",
       "    </tr>\n",
       "    <tr>\n",
       "      <th>2021-04-30</th>\n",
       "      <td>0.591123</td>\n",
       "      <td>-0.033026</td>\n",
       "      <td>0.773598</td>\n",
       "      <td>0.025922</td>\n",
       "      <td>0.744838</td>\n",
       "    </tr>\n",
       "  </tbody>\n",
       "</table>\n",
       "</div>"
      ],
      "text/plain": [
       "                   A         B         C         D         E\n",
       "2021-04-21  2.789831  0.678971 -0.696041  1.011196  0.890270\n",
       "2021-04-22 -1.263842  0.592089 -0.668019 -0.951246 -1.227220\n",
       "2021-04-23  0.647343 -0.821211  0.331160 -1.227249  0.253579\n",
       "2021-04-24 -2.666238  0.275802 -0.551801 -0.978444  0.420358\n",
       "2021-04-25 -0.531960  0.488001 -2.135537 -1.113503  0.107094\n",
       "2021-04-26 -0.699187 -0.562929  2.287613  0.886462 -0.674230\n",
       "2021-04-27  1.096198  0.255474  0.288377  0.849951 -0.199211\n",
       "2021-04-28  1.020384 -0.485633 -0.107728  0.697694  0.004194\n",
       "2021-04-29  1.037593  0.154627 -1.382451  0.644846 -1.863622\n",
       "2021-04-30  0.591123 -0.033026  0.773598  0.025922  0.744838"
      ]
     },
     "execution_count": 22,
     "metadata": {},
     "output_type": "execute_result"
    }
   ],
   "source": [
    "df2"
   ]
  }
 ],
 "metadata": {
  "kernelspec": {
   "display_name": "Python 3",
   "language": "python",
   "name": "python3"
  },
  "language_info": {
   "codemirror_mode": {
    "name": "ipython",
    "version": 3
   },
   "file_extension": ".py",
   "mimetype": "text/x-python",
   "name": "python",
   "nbconvert_exporter": "python",
   "pygments_lexer": "ipython3",
   "version": "3.9.0"
  }
 },
 "nbformat": 4,
 "nbformat_minor": 4
}
