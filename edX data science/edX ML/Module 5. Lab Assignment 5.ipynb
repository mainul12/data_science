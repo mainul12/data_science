{
 "cells": [
  {
   "cell_type": "code",
   "execution_count": 31,
   "metadata": {
    "collapsed": false
   },
   "outputs": [
    {
     "name": "stdout",
     "output_type": "stream",
     "text": [
      "0.871428571429\n"
     ]
    },
    {
     "data": {
      "image/png": "[encoded data removed]",
      "text/plain": [
       "<matplotlib.figure.Figure at 0x7cd6950>"
      ]
     },
     "metadata": {},
     "output_type": "display_data"
    }
   ],
   "source": [
    "import numpy as np\n",
    "import pandas as pd\n",
    "import matplotlib.pyplot as plt\n",
    "import matplotlib\n",
    "\n",
    "# Set ipython's max row display\n",
    "pd.set_option('display.max_row', 1000)\n",
    "\n",
    "# Set iPython's max column width to 50\n",
    "pd.set_option('display.max_columns', 50)\n",
    "\n",
    "matplotlib.style.use('ggplot') # Look Pretty\n",
    "%matplotlib inline\n",
    "\n",
    "\n",
    "def plotDecisionBoundary(model, X, y):\n",
    "  fig = plt.figure()\n",
    "  ax = fig.add_subplot(111)\n",
    "\n",
    "  padding = 0.6\n",
    "  resolution = 0.0025\n",
    "  colors = ['royalblue','forestgreen','ghostwhite']\n",
    "\n",
    "  # Calculate the boundaries\n",
    "  x_min, x_max = X[:, 0].min(), X[:, 0].max()\n",
    "  y_min, y_max = X[:, 1].min(), X[:, 1].max()\n",
    "  x_range = x_max - x_min\n",
    "  y_range = y_max - y_min\n",
    "  x_min -= x_range * padding\n",
    "  y_min -= y_range * padding\n",
    "  x_max += x_range * padding\n",
    "  y_max += y_range * padding\n",
    "\n",
    "  # Create a 2D Grid Matrix. The values stored in the matrix\n",
    "  # are the predictions of the class at said location\n",
    "  xx, yy = np.meshgrid(np.arange(x_min, x_max, resolution),\n",
    "                       np.arange(y_min, y_max, resolution))\n",
    "\n",
    "  # What class does the classifier say?\n",
    "  Z = model.predict(np.c_[xx.ravel(), yy.ravel()])\n",
    "  Z = Z.reshape(xx.shape)\n",
    "\n",
    "  # Plot the contour map\n",
    "  plt.contourf(xx, yy, Z, cmap=plt.cm.terrain)\n",
    "  plt.axis('tight')\n",
    "\n",
    "  # Plot our original points as well...\n",
    "  for label in range(len(np.unique(y))):\n",
    "    indices = np.where(y == label)\n",
    "    plt.scatter(X[indices, 0], X[indices, 1], c=colors[label], label=str(label), alpha=0.8)\n",
    "\n",
    "  p = model.get_params()\n",
    "  plt.title('K = ' + str(p['n_neighbors']))\n",
    "\n",
    "\n",
    "# \n",
    "# TODO: Load up the dataset into a variable called X. Check the .head and\n",
    "# compare it to the file you loaded in a text editor. Make sure you're\n",
    "# loading your data properly--don't fail on the 1st step!\n",
    "#\n",
    "X = pd.read_csv(r\"C:\\Users\\aaaaaaaa\\Desktop\\edX ML\\Module 5 KNN\\Datasets\\wheat.data\",index_col = 0)\n",
    "\n",
    "#\n",
    "# TODO: Copy the 'wheat_type' series slice out of X, and into a series\n",
    "# called 'y'. Then drop the original 'wheat_type' column from the X\n",
    "#\n",
    "# Copy the 'wheat_type' series slice out of X, and into a series called 'y'.\n",
    "y = X['wheat_type'].copy()\n",
    "#Drop the original 'wheat_type' column from the X\n",
    "X.drop(labels=['wheat_type'], inplace=True, axis=1)\n",
    "\n",
    "\n",
    "# TODO: Do a quick, \"nominal\" conversion of 'y' by encoding it to a SINGLE\n",
    "# variable (e.g. 0, 1, 2). This is covered in the Feature Representation\n",
    "# reading as \"Method 1)\". In actuality the classification isn't nominal,\n",
    "# but this is the fastest way to encode you 3 possible wheat types into a\n",
    "# label that you can plot distinctly. More notes about this on the bottom\n",
    "# of the assignment.\n",
    "#\n",
    "y = y.astype(\"category\").cat.codes\n",
    "\n",
    "#\n",
    "# TODO: Basic nan munging. Fill each row's nans with the mean of the feature\n",
    "#\n",
    "X.area.fillna(X.area.mean(),inplace = True)\n",
    "X.perimeter.fillna(X.perimeter.mean(),inplace = True)\n",
    "X.compactness.fillna(X.compactness.mean(),inplace = True)\n",
    "X.length.fillna(X.length.mean(),inplace = True)\n",
    "X.width.fillna(X.width.mean(),inplace = True)\n",
    "X.asymmetry.fillna(X.asymmetry.mean(),inplace = True)\n",
    "X.groove.fillna(X.groove.mean(),inplace = True)\n",
    "\n",
    "\n",
    "\n",
    "\n",
    "# \n",
    "# TODO: Use SKLearn's regular \"normalize\" preprocessor to normalize X's feature data\n",
    "#\n",
    "from sklearn import preprocessing\n",
    "X = preprocessing.normalize(X, norm='l2',axis = 0)\n",
    "\n",
    "\n",
    "\n",
    "\n",
    "#\n",
    "# TODO: Project both your X_train and X_test features into PCA space.\n",
    "# This has to be done because the only way to visualize the decision\n",
    "# boundary in 2D, would be if your KNN algo ran in 2D as well\n",
    "#\n",
    "from sklearn.decomposition import PCA  \n",
    "pca = PCA(n_components=2)                \n",
    "pca.fit(X)\n",
    "X = pca.transform(X)\n",
    "    \n",
    "\n",
    "\n",
    "#\n",
    "# TODO: Split out your training and testing data.\n",
    "# INFO: Use 0.33 test size, and use random_state=1. This is important\n",
    "# so that your answers are verifiable. In the real world, you wouldn't\n",
    "# specify a random_state.\n",
    "#\n",
    "from sklearn.cross_validation import train_test_split\n",
    "X_train, X_test, y_train, y_test = train_test_split(X, y, test_size=0.33, random_state=1)\n",
    "\n",
    "\n",
    "#\n",
    "# TODO: Run KNeighborsClassifier. Start out with K=7 neighbors. NOTE:\n",
    "# Be sure train your classifier against the PCA transformed feature\n",
    "# data above! You do not, however, need to transform your labels.\n",
    "#\n",
    "from sklearn.neighbors import KNeighborsClassifier\n",
    "knn = KNeighborsClassifier(n_neighbors=9)\n",
    "knn.fit(X_train, y_train) \n",
    "\n",
    "\n",
    "# HINT: Ensure your KNeighbors classifier object from earlier is called 'knn'.\n",
    "# This method plots your TEST points against the boundary learned from your\n",
    "# training data:\n",
    "plotDecisionBoundary(knn, X_test, y_test)\n",
    "\n",
    "\n",
    "#\n",
    "# TODO: Display the accuracy score.\n",
    "#\n",
    "# NOTE: You don't have to run .predict before calling .score, since\n",
    "# .score will take care of running your predictions for the params\n",
    "# you provided.\n",
    "#\n",
    "print(knn.score(X_test,y_test))\n",
    "\n",
    "\n",
    "#\n",
    "# BONUS: Instead of the ordinal conversion, try and get this assignment\n",
    "# working with a proper Pandas get_dummies for feature encoding. HINT:\n",
    "# You might have to update some of the plotDecisionBoundary code.\n",
    "\n",
    "\n",
    "plt.show()\n",
    "\n"
   ]
  },
  {
   "cell_type": "code",
   "execution_count": 27,
   "metadata": {
    "collapsed": false
   },
   "outputs": [
    {
     "data": {
      "text/plain": [
       "(210, 2)"
      ]
     },
     "execution_count": 27,
     "metadata": {},
     "output_type": "execute_result"
    }
   ],
   "source": [
    "X.shape"
   ]
  },
  {
   "cell_type": "code",
   "execution_count": null,
   "metadata": {
    "collapsed": true
   },
   "outputs": [],
   "source": []
  },
  {
   "cell_type": "code",
   "execution_count": null,
   "metadata": {
    "collapsed": true
   },
   "outputs": [],
   "source": []
  },
  {
   "cell_type": "code",
   "execution_count": null,
   "metadata": {
    "collapsed": true
   },
   "outputs": [],
   "source": []
  },
  {
   "cell_type": "code",
   "execution_count": null,
   "metadata": {
    "collapsed": true
   },
   "outputs": [],
   "source": []
  },
  {
   "cell_type": "code",
   "execution_count": null,
   "metadata": {
    "collapsed": true
   },
   "outputs": [],
   "source": []
  },
  {
   "cell_type": "code",
   "execution_count": null,
   "metadata": {
    "collapsed": true
   },
   "outputs": [],
   "source": []
  },
  {
   "cell_type": "code",
   "execution_count": null,
   "metadata": {
    "collapsed": true
   },
   "outputs": [],
   "source": []
  },
  {
   "cell_type": "code",
   "execution_count": null,
   "metadata": {
    "collapsed": true
   },
   "outputs": [],
   "source": []
  },
  {
   "cell_type": "code",
   "execution_count": null,
   "metadata": {
    "collapsed": true
   },
   "outputs": [],
   "source": []
  }
 ],
 "metadata": {
  "kernelspec": {
   "display_name": "Python 3",
   "language": "python",
   "name": "python3"
  },
  "language_info": {
   "codemirror_mode": {
    "name": "ipython",
    "version": 3
   },
   "file_extension": ".py",
   "mimetype": "text/x-python",
   "name": "python",
   "nbconvert_exporter": "python",
   "pygments_lexer": "ipython3",
   "version": "3.5.2"
  }
 },
 "nbformat": 4,
 "nbformat_minor": 0
}
