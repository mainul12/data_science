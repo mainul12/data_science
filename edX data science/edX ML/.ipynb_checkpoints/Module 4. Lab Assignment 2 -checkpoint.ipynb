{
 "cells": [
  {
   "cell_type": "code",
   "execution_count": 2,
   "metadata": {
    "collapsed": true
   },
   "outputs": [],
   "source": [
    "import os"
   ]
  },
  {
   "cell_type": "code",
   "execution_count": 3,
   "metadata": {
    "collapsed": false
   },
   "outputs": [],
   "source": [
    "os.chdir(r\"C:\\Users\\aaaaaaaa\\Desktop\\edX ML\\Module 4PCA\\PCA\")"
   ]
  },
  {
   "cell_type": "code",
   "execution_count": 4,
   "metadata": {
    "collapsed": false
   },
   "outputs": [
    {
     "data": {
      "text/plain": [
       "'C:\\\\Users\\\\aaaaaaaa\\\\Desktop\\\\edX ML\\\\Module 4PCA\\\\PCA'"
      ]
     },
     "execution_count": 4,
     "metadata": {},
     "output_type": "execute_result"
    }
   ],
   "source": [
    "os.getcwd()"
   ]
  },
  {
   "cell_type": "code",
   "execution_count": 24,
   "metadata": {
    "collapsed": false
   },
   "outputs": [
    {
     "name": "stdout",
     "output_type": "stream",
     "text": [
      "float64\n",
      "object\n",
      "object\n",
      "              bgr            wc          rc\n",
      "count  158.000000    158.000000  158.000000\n",
      "mean   131.341772   8475.949367    4.891772\n",
      "std     64.939832   3126.880181    1.019364\n",
      "min     70.000000   3800.000000    2.100000\n",
      "25%     97.000000   6525.000000    4.500000\n",
      "50%    115.500000   7800.000000    4.950000\n",
      "75%    131.750000   9775.000000    5.600000\n",
      "max    490.000000  26400.000000    8.000000\n",
      "\n",
      "bgr    4.217182e+03\n",
      "wc     9.777380e+06\n",
      "rc     1.039104e+00\n",
      "dtype: float64\n"
     ]
    },
    {
     "data": {
      "image/png": "[encoded data removed]",
      "text/plain": [
       "<matplotlib.figure.Figure at 0x7645d90>"
      ]
     },
     "metadata": {},
     "output_type": "display_data"
    }
   ],
   "source": [
    "import pandas as pd\n",
    "import matplotlib.pyplot as plt\n",
    "import matplotlib\n",
    "import assignment2_helper as helper\n",
    "%matplotlib inline\n",
    "\n",
    "# Look pretty...\n",
    "matplotlib.style.use('ggplot')\n",
    "\n",
    "\n",
    "# Do * NOT * alter this line, until instructed!\n",
    "scaleFeatures = False\n",
    "\n",
    "\n",
    "# TODO: Load up the dataset and remove any and all\n",
    "# Rows that have a nan. You should be a pro at this\n",
    "# by now ;-)\n",
    "#\n",
    "df = pd.read_csv(r\"C:\\Users\\aaaaaaaa\\Desktop\\edX ML\\Module 4PCA\\PCA\\Datasets\\kidney_disease.csv\",index_col = 0)\n",
    "df = df.dropna(axis = 0, how = \"any\")\n",
    "\n",
    "\n",
    "\n",
    "# Create some color coded labels; the actual label feature\n",
    "# will be removed prior to executing PCA, since it's unsupervised.\n",
    "# You're only labeling by color so you can see the effects of PCA\n",
    "labels = ['red' if i=='ckd' else 'green' for i in df.classification]\n",
    "\n",
    "\n",
    "# TODO: Use an indexer to select only the following columns:\n",
    "#       ['bgr','wc','rc']\n",
    "#\n",
    "df = df[[\"bgr\",\"wc\",\"rc\"]]\n",
    "\n",
    "\n",
    "\n",
    "# TODO: Print out and check your dataframe's dtypes. You'll probably\n",
    "# want to call 'exit()' after you print it out so you can stop the\n",
    "# program's execution.\n",
    "#\n",
    "# You can either take a look at the dataset webpage in the attribute info\n",
    "# section: https://archive.ics.uci.edu/ml/datasets/Chronic_Kidney_Disease\n",
    "# or you can actually peek through the dataframe by printing a few rows.\n",
    "# What kind of data type should these three columns be? If Pandas didn't\n",
    "# properly detect and convert them to that data type for you, then use\n",
    "# an appropriate command to coerce these features into the right type.\n",
    "#\n",
    "print(df.bgr.dtype)\n",
    "print(df.wc.dtype)\n",
    "print(df.rc.dtype)\n",
    "##COERCION\n",
    "df.wc = pd.to_numeric(df.wc)\n",
    "df.rc = pd.to_numeric(df.rc)\n",
    "df = df.reset_index(drop=True)\n",
    "\n",
    "\n",
    "# TODO: PCA Operates based on variance. The variable with the greatest\n",
    "# variance will dominate. Go ahead and peek into your data using a\n",
    "# command that will check the variance of every feature in your dataset.\n",
    "# Print out the results. Also print out the results of running .describe\n",
    "# on your dataset.\n",
    "#\n",
    "# Hint: If you don't see all three variables: 'bgr','wc' and 'rc', then\n",
    "# you probably didn't complete the previous step properly.\n",
    "#\n",
    "print(df.describe())\n",
    "##VARIANCE\n",
    "print()\n",
    "print(df.var())\n",
    "\n",
    "\n",
    "# TODO: This method assumes your dataframe is called df. If it isn't,\n",
    "# make the appropriate changes. Don't alter the code in scaleFeatures()\n",
    "# just yet though!\n",
    "#\n",
    "# .. your code adjustment here ..\n",
    "if scaleFeatures: df = helper.scaleFeatures(df)\n",
    "\n",
    "\n",
    "\n",
    "# TODO: Run PCA on your dataset and reduce it to 2 components\n",
    "# Ensure your PCA instance is saved in a variable called 'pca',\n",
    "# and that the results of your transformation are saved in 'T'.\n",
    "#\n",
    "from sklearn.decomposition import PCA\n",
    "pca = PCA(n_components = 2)\n",
    "pca.fit(df)\n",
    "T = pca.transform(df)\n",
    "\n",
    "\n",
    "\n",
    "# Plot the transformed data as a scatter plot. Recall that transforming\n",
    "# the data will result in a NumPy NDArray. You can either use MatPlotLib\n",
    "# to graph it directly, or you can convert it to DataFrame and have pandas\n",
    "# do it for you.\n",
    "#\n",
    "# Since we've already demonstrated how to plot directly with MatPlotLib in\n",
    "# Module4/assignment1.py, this time we'll convert to a Pandas Dataframe.\n",
    "#\n",
    "# Since we transformed via PCA, we no longer have column names. We know we\n",
    "# are in P.C. space, so we'll just define the coordinates accordingly:\n",
    "ax = helper.drawVectors(T, pca.components_, df.columns.values, plt, scaleFeatures)\n",
    "T = pd.DataFrame(T)\n",
    "T.columns = ['component1', 'component2']\n",
    "T.plot.scatter(x='component1', y='component2', marker='o', c=labels, alpha=0.75, ax=ax)\n",
    "plt.show()\n",
    "\n",
    "\n"
   ]
  },
  {
   "cell_type": "code",
   "execution_count": 27,
   "metadata": {
    "collapsed": false
   },
   "outputs": [
    {
     "name": "stdout",
     "output_type": "stream",
     "text": [
      "float64\n",
      "object\n",
      "object\n",
      "              bgr            wc          rc\n",
      "count  158.000000    158.000000  158.000000\n",
      "mean   131.341772   8475.949367    4.891772\n",
      "std     64.939832   3126.880181    1.019364\n",
      "min     70.000000   3800.000000    2.100000\n",
      "25%     97.000000   6525.000000    4.500000\n",
      "50%    115.500000   7800.000000    4.950000\n",
      "75%    131.750000   9775.000000    5.600000\n",
      "max    490.000000  26400.000000    8.000000\n",
      "\n",
      "bgr    4.217182e+03\n",
      "wc     9.777380e+06\n",
      "rc     1.039104e+00\n",
      "dtype: float64\n",
      "New Variances:\n",
      " bgr    1.006369\n",
      "wc     1.006369\n",
      "rc     1.006369\n",
      "dtype: float64\n",
      "New Describe:\n",
      "                 bgr            wc            rc\n",
      "count  1.580000e+02  1.580000e+02  1.580000e+02\n",
      "mean  -4.497106e-17 -4.497106e-17  1.349132e-16\n",
      "std    1.003180e+00  1.003180e+00  1.003180e+00\n",
      "min   -9.475974e-01 -1.500159e+00 -2.747446e+00\n",
      "25%   -5.305059e-01 -6.259123e-01 -3.855519e-01\n",
      "50%   -2.447210e-01 -2.168611e-01  5.730335e-02\n",
      "75%    6.306235e-03  4.167672e-01  6.969831e-01\n",
      "max    5.540492e+00  5.750474e+00  3.058878e+00\n",
      "Features by importance:\n",
      " [(3.9998071556884844, 'wc'), (3.2588876641210898, 'bgr'), (3.009752752998363, 'rc')]\n"
     ]
    },
    {
     "data": {
      "image/png": "[encoded data removed]",
      "text/plain": [
       "<matplotlib.figure.Figure at 0x70bcff0>"
      ]
     },
     "metadata": {},
     "output_type": "display_data"
    }
   ],
   "source": [
    "import pandas as pd\n",
    "import matplotlib.pyplot as plt\n",
    "import matplotlib\n",
    "import assignment2_helper as helper\n",
    "%matplotlib inline\n",
    "\n",
    "# Look pretty...\n",
    "matplotlib.style.use('ggplot')\n",
    "\n",
    "\n",
    "# Do * NOT * alter this line, until instructed!\n",
    "scaleFeatures = True\n",
    "\n",
    "\n",
    "# TODO: Load up the dataset and remove any and all\n",
    "# Rows that have a nan. You should be a pro at this\n",
    "# by now ;-)\n",
    "#\n",
    "df = pd.read_csv(r\"C:\\Users\\aaaaaaaa\\Desktop\\edX ML\\Module 4PCA\\PCA\\Datasets\\kidney_disease.csv\",index_col = 0)\n",
    "df = df.dropna(axis = 0, how = \"any\")\n",
    "\n",
    "\n",
    "\n",
    "# Create some color coded labels; the actual label feature\n",
    "# will be removed prior to executing PCA, since it's unsupervised.\n",
    "# You're only labeling by color so you can see the effects of PCA\n",
    "labels = ['red' if i=='ckd' else 'green' for i in df.classification]\n",
    "\n",
    "\n",
    "# TODO: Use an indexer to select only the following columns:\n",
    "#       ['bgr','wc','rc']\n",
    "#\n",
    "df = df[[\"bgr\",\"wc\",\"rc\"]]\n",
    "\n",
    "\n",
    "\n",
    "# TODO: Print out and check your dataframe's dtypes. You'll probably\n",
    "# want to call 'exit()' after you print it out so you can stop the\n",
    "# program's execution.\n",
    "#\n",
    "# You can either take a look at the dataset webpage in the attribute info\n",
    "# section: https://archive.ics.uci.edu/ml/datasets/Chronic_Kidney_Disease\n",
    "# or you can actually peek through the dataframe by printing a few rows.\n",
    "# What kind of data type should these three columns be? If Pandas didn't\n",
    "# properly detect and convert them to that data type for you, then use\n",
    "# an appropriate command to coerce these features into the right type.\n",
    "#\n",
    "print(df.bgr.dtype)\n",
    "print(df.wc.dtype)\n",
    "print(df.rc.dtype)\n",
    "##COERCION\n",
    "df.wc = pd.to_numeric(df.wc)\n",
    "df.rc = pd.to_numeric(df.rc)\n",
    "df = df.reset_index(drop=True)\n",
    "\n",
    "\n",
    "# TODO: PCA Operates based on variance. The variable with the greatest\n",
    "# variance will dominate. Go ahead and peek into your data using a\n",
    "# command that will check the variance of every feature in your dataset.\n",
    "# Print out the results. Also print out the results of running .describe\n",
    "# on your dataset.\n",
    "#\n",
    "# Hint: If you don't see all three variables: 'bgr','wc' and 'rc', then\n",
    "# you probably didn't complete the previous step properly.\n",
    "#\n",
    "print(df.describe())\n",
    "##VARIANCE\n",
    "print()\n",
    "print(df.var())\n",
    "\n",
    "\n",
    "# TODO: This method assumes your dataframe is called df. If it isn't,\n",
    "# make the appropriate changes. Don't alter the code in scaleFeatures()\n",
    "# just yet though!\n",
    "#\n",
    "# .. your code adjustment here ..\n",
    "if scaleFeatures: df = helper.scaleFeatures(df)\n",
    "\n",
    "\n",
    "\n",
    "# TODO: Run PCA on your dataset and reduce it to 2 components\n",
    "# Ensure your PCA instance is saved in a variable called 'pca',\n",
    "# and that the results of your transformation are saved in 'T'.\n",
    "#\n",
    "from sklearn.decomposition import PCA\n",
    "pca = PCA(n_components = 2)\n",
    "pca.fit(df)\n",
    "T = pca.transform(df)\n",
    "\n",
    "\n",
    "\n",
    "# Plot the transformed data as a scatter plot. Recall that transforming\n",
    "# the data will result in a NumPy NDArray. You can either use MatPlotLib\n",
    "# to graph it directly, or you can convert it to DataFrame and have pandas\n",
    "# do it for you.\n",
    "#\n",
    "# Since we've already demonstrated how to plot directly with MatPlotLib in\n",
    "# Module4/assignment1.py, this time we'll convert to a Pandas Dataframe.\n",
    "#\n",
    "# Since we transformed via PCA, we no longer have column names. We know we\n",
    "# are in P.C. space, so we'll just define the coordinates accordingly:\n",
    "ax = helper.drawVectors(T, pca.components_, df.columns.values, plt, scaleFeatures)\n",
    "T = pd.DataFrame(T)\n",
    "T.columns = ['component1', 'component2']\n",
    "T.plot.scatter(x='component1', y='component2', marker='o', c=labels, alpha=0.75, ax=ax)\n",
    "plt.show()\n",
    "\n",
    "\n"
   ]
  },
  {
   "cell_type": "code",
   "execution_count": null,
   "metadata": {
    "collapsed": true
   },
   "outputs": [],
   "source": []
  }
 ],
 "metadata": {
  "kernelspec": {
   "display_name": "Python 3",
   "language": "python",
   "name": "python3"
  },
  "language_info": {
   "codemirror_mode": {
    "name": "ipython",
    "version": 3
   },
   "file_extension": ".py",
   "mimetype": "text/x-python",
   "name": "python",
   "nbconvert_exporter": "python",
   "pygments_lexer": "ipython3",
   "version": "3.5.2"
  }
 },
 "nbformat": 4,
 "nbformat_minor": 0
}
